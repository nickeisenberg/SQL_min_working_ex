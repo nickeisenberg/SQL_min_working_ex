{
  "cells": [
    {
      "cell_type": "code",
      "metadata": {
        "jukit_cell_id": "emuOpc2Yc4"
      },
      "source": [
        "\"\"\"\n",
        "We create sensor data for 5 sensors.\n",
        "There is 24hrs of data for each sensor.\n",
        "The time is recorded in seconds.\n",
        "The start time is different for each sensor but\n",
        "is within ~2 hours of 6am of may 1, 2023.\n",
        "\"\"\""
      ],
      "outputs": [],
      "execution_count": null
    },
    {
      "cell_type": "code",
      "metadata": {
        "jukit_cell_id": "9Y7ozZnvoi"
      },
      "source": [
        "import datetime as dt\n",
        "import numpy as np\n",
        "import pymysql\n",
        "import pandas as pd\n",
        "import matplotlib.pyplot as plt\n",
        "from matplotlib import colors"
      ],
      "outputs": [],
      "execution_count": null
    },
    {
      "cell_type": "code",
      "metadata": {
        "jukit_cell_id": "XzPfsoKRhg"
      },
      "source": [
        "#-Create the timeseries data-----------------------\n",
        "data = {}\n",
        "for i in range(5):\n",
        "    ts_x = np.hstack((0, np.random.normal(0, 2, 3600 * 24 - 1)))\n",
        "    ts_y = np.hstack((0, np.random.normal(0, 2, 3600 * 24 - 1)))\n",
        "    ts_z = np.hstack((0, np.random.normal(0, 2, 3600 * 24 - 1)))\n",
        "    ts_dic = {'x': ts_x, 'y': ts_y, 'z': ts_z}\n",
        "    data[f'sensor_{i}'] = pd.DataFrame(ts_dic)\n",
        "\n",
        "sensors = data.keys()"
      ],
      "outputs": [],
      "execution_count": null
    },
    {
      "cell_type": "code",
      "metadata": {
        "jukit_cell_id": "KvwqbMMfgY"
      },
      "source": [
        "for k in data.keys():\n",
        "    for col in data[k].columns:\n",
        "        sen_data = data[k][col]\n",
        "        # constant freqs\n",
        "        dom = np.linspace(0, 1, sen_data.size)\n",
        "        freq_no = np.random.randint(75, 100 + 1) * (sen_data.size / (60 * 5))\n",
        "        freq = np.sin(2 * np.pi * dom * freq_no)\n",
        "        data[k][col] += freq\n",
        "        freq_no = np.random.randint(30, 50 + 1) * (sen_data.size / (60 * 5))\n",
        "        freq = np.sin(2 * np.pi * dom * freq_no)\n",
        "        data[k][col] += freq"
      ],
      "outputs": [],
      "execution_count": null
    },
    {
      "cell_type": "code",
      "metadata": {
        "jukit_cell_id": "lQsVxsmLNk"
      },
      "source": [
        "def spectrogram(signal, period_len=60 * 5):\n",
        "    freqs = np.fft.rfftfreq(period_len, d=1 / period_len)\n",
        "    len_thresh = signal.size // period_len\n",
        "    signal = signal[: period_len * len_thresh].reshape((-1, period_len))\n",
        "    ffts = np.abs(np.fft.rfft(signal, axis=1))\n",
        "    return freqs, ffts\n",
        "\n",
        "def plot_spectrogram_mpl(freqs, ffts, show=False):\n",
        "    t = np.linspace(0, ffts.shape[0] - 1, ffts.shape[0])\n",
        "    xx, yy = np.meshgrid(t, freqs)\n",
        "    fig, ax = plt.subplots()\n",
        "    ax.pcolormesh(xx, yy, ffts.T,\n",
        "                  shading='auto',\n",
        "                  norm=colors.Normalize(ffts.min(), ffts.max()),\n",
        "                  cmap=plt.cm.viridis)\n",
        "    if show:\n",
        "        return plt.show()\n",
        "    else:\n",
        "        return fig, ax"
      ],
      "outputs": [],
      "execution_count": null
    },
    {
      "cell_type": "code",
      "metadata": {
        "jukit_cell_id": "JRTks6czMC"
      },
      "source": [
        "fig, ax = plt.subplots(1, 3)\n",
        "for i, col in enumerate(data['sensor_1'].columns):\n",
        "    ax[i].plot(data['sensor_1'][col].values)\n",
        "plt.show()\n",
        "\n",
        "fq, ft = spectrogram(data['sensor_1']['x'].values)\n",
        "plot_spectrogram_mpl(fq, ft, show=True)"
      ],
      "outputs": [],
      "execution_count": null
    },
    {
      "cell_type": "code",
      "metadata": {
        "jukit_cell_id": "O9sdIE69OJ"
      },
      "source": [
        "#--------------------------------------------------\n",
        "time_stamps = {}\n",
        "for i in range(5):\n",
        "    del_t = np.random.normal(2, 1)\n",
        "    hr = int(del_t)\n",
        "    min = int((del_t - int(del_t)) * 60)\n",
        "    t_start = dt.datetime(2023, 5, 1, 6 + hr, min, 0)\n",
        "    ts = t_start.timestamp() + np.arange(0, 24 * 3600, 60)\n",
        "    time_stamps[sensors[i]] = ts.astype(int)\n",
        "time_stamps = pd.DataFrame(time_stamps)\n",
        "\n",
        "lat_lon = {}\n",
        "for sensor in sensors:\n",
        "    lat = 300 + np.random.normal(0, 10)\n",
        "    lon = 200 + np.random.normal(0, 6)\n",
        "    lat_lon[sensor] = np.array([lat, lon]).T\n",
        "lat_lon = pd.DataFrame(lat_lon, index=['lat', 'lon'])\n",
        "#--------------------------------------------------\n",
        "\n",
        "# Open connection to the database\n",
        "connection = pymysql.connect(\n",
        "    host='127.0.0.1',\n",
        "    user='root',\n",
        "    password='',\n",
        "    port=3306,\n",
        "    database='sensor_data'\n",
        ")\n",
        "#--------------------------------------------------\n",
        "\n",
        "#-Create the tables-------------------------------\n",
        "cursor = connection.cursor()\n",
        "sql_code = \"CREATE TABLE IF NOT EXISTS sensor_names( \"\n",
        "sql_code += \"name_id INT AUTO_INCREMENT NOT NULL PRIMARY KEY, \"\n",
        "sql_code += \"name VARCHAR(255) NOT NULL,\"\n",
        "sql_code += \"lat VARCHAR(255) DEFAULT NULL,\"\n",
        "sql_code += \"lon VARCHAR(255) DEFAULT NULL);\"\n",
        "cursor.execute(sql_code)\n",
        "connection.commit()\n",
        "#--------------------------------------------------\n",
        "\n",
        "for sen in sensors:\n",
        "    cursor = connection.cursor()\n",
        "    sql_code = \"INSERT INTO sensor_names (name) \"\n",
        "    sql_code += f\"SELECT '{sen}' FROM DUAL \"\n",
        "    sql_code += \"WHERE NOT EXISTS (SELECT * FROM  sensor_names \"\n",
        "    sql_code += f\"WHERE name='{sen}' LIMIT 1);\"\n",
        "    cursor.execute(sql_code)\n",
        "    connection.commit()"
      ],
      "outputs": [],
      "execution_count": null
    },
    {
      "cell_type": "code",
      "metadata": {
        "jukit_cell_id": "wAMMLFoiP7"
      },
      "source": [],
      "outputs": [],
      "execution_count": null
    }
  ],
  "metadata": {
    "anaconda-cloud": {},
    "kernelspec": {
      "display_name": "python",
      "language": "python",
      "name": "python3"
    }
  },
  "nbformat": 4,
  "nbformat_minor": 4
}